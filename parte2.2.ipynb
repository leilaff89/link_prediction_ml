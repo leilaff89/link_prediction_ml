{
 "cells": [
  {
   "cell_type": "markdown",
   "id": "7a5829ac-7a4c-4cc6-a6c2-e0039d4631b2",
   "metadata": {},
   "source": [
    "Importing libraries"
   ]
  },
  {
   "cell_type": "code",
   "execution_count": 1,
   "id": "3067cae9-5db8-4258-b33c-7cf015451b6a",
   "metadata": {},
   "outputs": [],
   "source": [
    "import networkx as nx\n",
    "import pandas as pd\n",
    "from pickle import load"
   ]
  },
  {
   "cell_type": "markdown",
   "id": "bcaec975-24cb-42c7-9c2b-4064feb86c33",
   "metadata": {},
   "source": [
    "Reading the graph and the data to be tested"
   ]
  },
  {
   "cell_type": "code",
   "execution_count": 2,
   "id": "51c542a2-913f-4f5b-bead-f57a844486e7",
   "metadata": {},
   "outputs": [],
   "source": [
    "G = nx.read_gml(\"GraphMissingEdges.gml\")\n",
    "edges_te = pd.read_csv('edgesToEvaluate.csv')"
   ]
  },
  {
   "cell_type": "code",
   "execution_count": 3,
   "id": "0e5373b9-0d15-40a0-a67e-4f8a4adb0316",
   "metadata": {},
   "outputs": [
    {
     "data": {
      "text/plain": [
       "'Graph with 4575 nodes and 18991 edges'"
      ]
     },
     "execution_count": 3,
     "metadata": {},
     "output_type": "execute_result"
    }
   ],
   "source": [
    "nx.info(G)"
   ]
  },
  {
   "cell_type": "markdown",
   "id": "373ae10f-ae19-4fb8-96df-a3460f0e4d12",
   "metadata": {},
   "source": [
    "Receiving the nodes from data"
   ]
  },
  {
   "cell_type": "code",
   "execution_count": 4,
   "id": "232d5790-a7ee-4b69-8a82-4aa0aba1c634",
   "metadata": {},
   "outputs": [],
   "source": [
    "edge = []\n",
    "for idx in edges_te.index:\n",
    "    tupla = (edges_te['venue1'][idx], edges_te['venue2'][idx]) \n",
    "    edge.append(tupla)"
   ]
  },
  {
   "cell_type": "markdown",
   "id": "08313b9b-158d-4df9-a048-92a68ca7c4a8",
   "metadata": {},
   "source": [
    "Calculating Jaccard Coefficient of edges on data to be tested"
   ]
  },
  {
   "cell_type": "code",
   "execution_count": 5,
   "id": "54f93b8e-69eb-47a9-b76c-bcad0318d345",
   "metadata": {},
   "outputs": [],
   "source": [
    "pred_jc = nx.jaccard_coefficient(G, edge)"
   ]
  },
  {
   "cell_type": "code",
   "execution_count": 6,
   "id": "70d0f67f-e0be-43c5-a9b3-6d3937dbf33e",
   "metadata": {},
   "outputs": [],
   "source": [
    "jc_scores = []\n",
    "node1 = []\n",
    "node2 = []\n",
    "\n",
    "for u, v, p in pred_jc:\n",
    "    node1.append(u)\n",
    "    node2.append(v)\n",
    "    jc_scores.append(p)\n",
    "\n",
    "df_dict = {}\n",
    "df_dict['Node1'] = node1\n",
    "df_dict['Node2'] = node2\n",
    "df_dict['JC_score'] = jc_scores"
   ]
  },
  {
   "cell_type": "markdown",
   "id": "7074f7b4-cb97-40dc-aef0-769b104c6089",
   "metadata": {},
   "source": [
    "Calculating Preferential Attachment of edges on data to be tested"
   ]
  },
  {
   "cell_type": "code",
   "execution_count": 7,
   "id": "529058d2-2bef-481b-8cc4-e6d050fec203",
   "metadata": {},
   "outputs": [],
   "source": [
    "pred_pa = nx.preferential_attachment(G, edge)"
   ]
  },
  {
   "cell_type": "code",
   "execution_count": 8,
   "id": "0e549cb9-95cb-4561-8c0a-c1575734a046",
   "metadata": {},
   "outputs": [],
   "source": [
    "pa_scores = []\n",
    "pa_scores = [s for (u,v,s) in pred_pa]    \n",
    "df_dict['PA_score'] = pa_scores "
   ]
  },
  {
   "cell_type": "markdown",
   "id": "2bbee0df-2fe6-4d4a-a17a-506275a4761d",
   "metadata": {},
   "source": [
    "Calculating Resource Allocation Index of edges on data to be tested"
   ]
  },
  {
   "cell_type": "code",
   "execution_count": 9,
   "id": "f1b6d469-565c-4aa5-b66f-a30db954f821",
   "metadata": {
    "tags": []
   },
   "outputs": [],
   "source": [
    "pred_ra = nx.resource_allocation_index(G, edge)"
   ]
  },
  {
   "cell_type": "code",
   "execution_count": 10,
   "id": "a3a6078f-563c-4432-a460-65640b61b913",
   "metadata": {},
   "outputs": [],
   "source": [
    "ra_scores = []\n",
    "ra_scores = [s for (u,v,s) in pred_ra]\n",
    "df_dict['RA_score'] = ra_scores"
   ]
  },
  {
   "cell_type": "markdown",
   "id": "01561b09-09ce-49a1-bacd-21d944dbab41",
   "metadata": {},
   "source": [
    "Creating a dataframe based on Jaccard Coefficient, Preferential Attachment and Resource Allocation Index"
   ]
  },
  {
   "cell_type": "code",
   "execution_count": 11,
   "id": "9ad06e7b-485d-416d-8b27-1325f36758da",
   "metadata": {
    "tags": []
   },
   "outputs": [],
   "source": [
    "df = pd.DataFrame(df_dict)"
   ]
  },
  {
   "cell_type": "code",
   "execution_count": 12,
   "id": "4f9f8df1-5f73-437e-98bf-fc3c788aa79c",
   "metadata": {},
   "outputs": [
    {
     "data": {
      "text/html": [
       "<div>\n",
       "<style scoped>\n",
       "    .dataframe tbody tr th:only-of-type {\n",
       "        vertical-align: middle;\n",
       "    }\n",
       "\n",
       "    .dataframe tbody tr th {\n",
       "        vertical-align: top;\n",
       "    }\n",
       "\n",
       "    .dataframe thead th {\n",
       "        text-align: right;\n",
       "    }\n",
       "</style>\n",
       "<table border=\"1\" class=\"dataframe\">\n",
       "  <thead>\n",
       "    <tr style=\"text-align: right;\">\n",
       "      <th></th>\n",
       "      <th>Node1</th>\n",
       "      <th>Node2</th>\n",
       "      <th>JC_score</th>\n",
       "      <th>PA_score</th>\n",
       "      <th>RA_score</th>\n",
       "    </tr>\n",
       "  </thead>\n",
       "  <tbody>\n",
       "    <tr>\n",
       "      <th>0</th>\n",
       "      <td>mJ_ucQ2_3hfTsmCcKb-hgw</td>\n",
       "      <td>qXGKYRwCR9SLgLl0g_9o5g</td>\n",
       "      <td>0.000000</td>\n",
       "      <td>320</td>\n",
       "      <td>0.000000</td>\n",
       "    </tr>\n",
       "    <tr>\n",
       "      <th>1</th>\n",
       "      <td>y19xFolCozaRA-gGmHwkQA</td>\n",
       "      <td>F6c3D1o9Z4Tl6cDorb3WgA</td>\n",
       "      <td>0.050000</td>\n",
       "      <td>108</td>\n",
       "      <td>0.037037</td>\n",
       "    </tr>\n",
       "    <tr>\n",
       "      <th>2</th>\n",
       "      <td>R1GwW4C1gh2Nmue9K0WYVA</td>\n",
       "      <td>Ul6JwluSTm12PVDIqnNaTg</td>\n",
       "      <td>0.008547</td>\n",
       "      <td>3160</td>\n",
       "      <td>0.013889</td>\n",
       "    </tr>\n",
       "    <tr>\n",
       "      <th>3</th>\n",
       "      <td>zzBa0pQjM1gov00bXjYYXg</td>\n",
       "      <td>3D6Uck9QSdxZKFstf5DGlg</td>\n",
       "      <td>0.080000</td>\n",
       "      <td>140</td>\n",
       "      <td>0.030107</td>\n",
       "    </tr>\n",
       "    <tr>\n",
       "      <th>4</th>\n",
       "      <td>U2d-meX4sVq0kiqcrpHt1w</td>\n",
       "      <td>vuDL_d3GYAtbvX9EJQqVog</td>\n",
       "      <td>0.000000</td>\n",
       "      <td>0</td>\n",
       "      <td>0.000000</td>\n",
       "    </tr>\n",
       "  </tbody>\n",
       "</table>\n",
       "</div>"
      ],
      "text/plain": [
       "                    Node1                   Node2  JC_score  PA_score  \\\n",
       "0  mJ_ucQ2_3hfTsmCcKb-hgw  qXGKYRwCR9SLgLl0g_9o5g  0.000000       320   \n",
       "1  y19xFolCozaRA-gGmHwkQA  F6c3D1o9Z4Tl6cDorb3WgA  0.050000       108   \n",
       "2  R1GwW4C1gh2Nmue9K0WYVA  Ul6JwluSTm12PVDIqnNaTg  0.008547      3160   \n",
       "3  zzBa0pQjM1gov00bXjYYXg  3D6Uck9QSdxZKFstf5DGlg  0.080000       140   \n",
       "4  U2d-meX4sVq0kiqcrpHt1w  vuDL_d3GYAtbvX9EJQqVog  0.000000         0   \n",
       "\n",
       "   RA_score  \n",
       "0  0.000000  \n",
       "1  0.037037  \n",
       "2  0.013889  \n",
       "3  0.030107  \n",
       "4  0.000000  "
      ]
     },
     "execution_count": 12,
     "metadata": {},
     "output_type": "execute_result"
    }
   ],
   "source": [
    "df.head()"
   ]
  },
  {
   "cell_type": "code",
   "execution_count": 13,
   "id": "3b58e142-6bfd-4f47-aaf9-13f07763fc1f",
   "metadata": {},
   "outputs": [
    {
     "data": {
      "text/html": [
       "<div>\n",
       "<style scoped>\n",
       "    .dataframe tbody tr th:only-of-type {\n",
       "        vertical-align: middle;\n",
       "    }\n",
       "\n",
       "    .dataframe tbody tr th {\n",
       "        vertical-align: top;\n",
       "    }\n",
       "\n",
       "    .dataframe thead th {\n",
       "        text-align: right;\n",
       "    }\n",
       "</style>\n",
       "<table border=\"1\" class=\"dataframe\">\n",
       "  <thead>\n",
       "    <tr style=\"text-align: right;\">\n",
       "      <th></th>\n",
       "      <th>JC_score</th>\n",
       "      <th>PA_score</th>\n",
       "      <th>RA_score</th>\n",
       "    </tr>\n",
       "  </thead>\n",
       "  <tbody>\n",
       "    <tr>\n",
       "      <th>count</th>\n",
       "      <td>500.000000</td>\n",
       "      <td>500.000000</td>\n",
       "      <td>500.000000</td>\n",
       "    </tr>\n",
       "    <tr>\n",
       "      <th>mean</th>\n",
       "      <td>0.016974</td>\n",
       "      <td>821.512000</td>\n",
       "      <td>0.034450</td>\n",
       "    </tr>\n",
       "    <tr>\n",
       "      <th>std</th>\n",
       "      <td>0.066921</td>\n",
       "      <td>2078.997475</td>\n",
       "      <td>0.110774</td>\n",
       "    </tr>\n",
       "    <tr>\n",
       "      <th>min</th>\n",
       "      <td>0.000000</td>\n",
       "      <td>0.000000</td>\n",
       "      <td>0.000000</td>\n",
       "    </tr>\n",
       "    <tr>\n",
       "      <th>25%</th>\n",
       "      <td>0.000000</td>\n",
       "      <td>8.000000</td>\n",
       "      <td>0.000000</td>\n",
       "    </tr>\n",
       "    <tr>\n",
       "      <th>50%</th>\n",
       "      <td>0.000000</td>\n",
       "      <td>74.500000</td>\n",
       "      <td>0.000000</td>\n",
       "    </tr>\n",
       "    <tr>\n",
       "      <th>75%</th>\n",
       "      <td>0.019005</td>\n",
       "      <td>652.000000</td>\n",
       "      <td>0.015632</td>\n",
       "    </tr>\n",
       "    <tr>\n",
       "      <th>max</th>\n",
       "      <td>1.000000</td>\n",
       "      <td>24192.000000</td>\n",
       "      <td>1.364406</td>\n",
       "    </tr>\n",
       "  </tbody>\n",
       "</table>\n",
       "</div>"
      ],
      "text/plain": [
       "         JC_score      PA_score    RA_score\n",
       "count  500.000000    500.000000  500.000000\n",
       "mean     0.016974    821.512000    0.034450\n",
       "std      0.066921   2078.997475    0.110774\n",
       "min      0.000000      0.000000    0.000000\n",
       "25%      0.000000      8.000000    0.000000\n",
       "50%      0.000000     74.500000    0.000000\n",
       "75%      0.019005    652.000000    0.015632\n",
       "max      1.000000  24192.000000    1.364406"
      ]
     },
     "execution_count": 13,
     "metadata": {},
     "output_type": "execute_result"
    }
   ],
   "source": [
    "df.describe()"
   ]
  },
  {
   "cell_type": "markdown",
   "id": "0680b9fd-7d78-4ad6-a9ff-9d352c99da4b",
   "metadata": {},
   "source": [
    "Loading the models"
   ]
  },
  {
   "cell_type": "code",
   "execution_count": 14,
   "id": "28c71f84-02c6-4ce6-bf4d-8dfe9e46b39e",
   "metadata": {},
   "outputs": [],
   "source": [
    "model_knn = load(open('model_knn.pkl', 'rb'))\n",
    "model_clf = load(open('model_clf.pkl', 'rb'))\n",
    "scaler = load(open('scaler.pkl', 'rb'))"
   ]
  },
  {
   "cell_type": "markdown",
   "id": "3a653200-140b-4cf3-bc9c-0e835a6efc6b",
   "metadata": {},
   "source": [
    "Applying the scaler and the models "
   ]
  },
  {
   "cell_type": "code",
   "execution_count": 15,
   "id": "819862a3-86f0-48a7-90f6-216ac4b691b6",
   "metadata": {},
   "outputs": [],
   "source": [
    "feature_names = ['JC_score', 'PA_score', 'RA_score']\n",
    "X = df[feature_names]\n",
    "X = scaler.transform(X)"
   ]
  },
  {
   "cell_type": "markdown",
   "id": "afce1c8e-6b8e-41ed-aa55-9f80e83aefcb",
   "metadata": {},
   "source": [
    "Making predictions using KNN and Decision Tree Classifier models"
   ]
  },
  {
   "cell_type": "code",
   "execution_count": 16,
   "id": "ff797034-a337-46de-9c9c-aa58665be083",
   "metadata": {},
   "outputs": [],
   "source": [
    "y_knn = model_knn.predict(X)\n",
    "y_clf = model_clf.predict(X)"
   ]
  },
  {
   "cell_type": "markdown",
   "id": "fee13416-ab52-47e3-b7eb-8f9f1158d244",
   "metadata": {},
   "source": [
    "Generating a csv file with the predicted data"
   ]
  },
  {
   "cell_type": "code",
   "execution_count": 17,
   "id": "e865e8b2-e077-4d2a-b633-4a205b314b26",
   "metadata": {},
   "outputs": [],
   "source": [
    "edges_te.drop(['venue1', 'venue2'], axis=1,inplace=True)"
   ]
  },
  {
   "cell_type": "code",
   "execution_count": 18,
   "id": "6cb6a839-de59-4761-ac17-b518b8c1d11a",
   "metadata": {},
   "outputs": [],
   "source": [
    "edges_te['KNN'] = y_knn\n",
    "edges_te['DTC'] = y_clf"
   ]
  },
  {
   "cell_type": "code",
   "execution_count": 19,
   "id": "20f3d265-5952-4bda-9f84-f3416eccbba0",
   "metadata": {},
   "outputs": [],
   "source": [
    "edges_te.to_csv('leila_edgesToEvaluate.csv',index=False)"
   ]
  }
 ],
 "metadata": {
  "kernelspec": {
   "display_name": "Python 3 (ipykernel)",
   "language": "python",
   "name": "python3"
  },
  "language_info": {
   "codemirror_mode": {
    "name": "ipython",
    "version": 3
   },
   "file_extension": ".py",
   "mimetype": "text/x-python",
   "name": "python",
   "nbconvert_exporter": "python",
   "pygments_lexer": "ipython3",
   "version": "3.9.7"
  }
 },
 "nbformat": 4,
 "nbformat_minor": 5
}
