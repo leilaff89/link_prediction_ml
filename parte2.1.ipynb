{
 "cells": [
  {
   "cell_type": "markdown",
   "id": "7cc0aca5-1799-4fc5-89ad-b6ecd79467fe",
   "metadata": {},
   "source": [
    "Importing libraries"
   ]
  },
  {
   "cell_type": "code",
   "execution_count": 1,
   "id": "3067cae9-5db8-4258-b33c-7cf015451b6a",
   "metadata": {},
   "outputs": [],
   "source": [
    "import numpy as np\n",
    "import networkx as nx\n",
    "import pandas as pd\n",
    "import random\n",
    "#from itertools import combinations\n",
    "#from collections import Counter\n",
    "import seaborn as sns\n",
    "import matplotlib.pyplot as plt\n",
    "\n",
    "from sklearn.preprocessing import StandardScaler\n",
    "from sklearn.model_selection import train_test_split\n",
    "from sklearn.tree import DecisionTreeClassifier\n",
    "from sklearn.linear_model import LogisticRegression\n",
    "from sklearn.neighbors import KNeighborsClassifier\n",
    "from sklearn.discriminant_analysis import LinearDiscriminantAnalysis\n",
    "from sklearn.svm import SVC\n",
    "from sklearn.naive_bayes import GaussianNB\n",
    "from sklearn.metrics import confusion_matrix\n",
    "from sklearn import metrics\n",
    "from pickle import dump"
   ]
  },
  {
   "cell_type": "markdown",
   "id": "d6a89b46-6e5c-4d10-8deb-fdf314ff9d25",
   "metadata": {},
   "source": [
    "Function used to plot confusion matrix"
   ]
  },
  {
   "cell_type": "code",
   "execution_count": 2,
   "id": "3e660957-8fce-496b-b79a-991839e23b13",
   "metadata": {},
   "outputs": [],
   "source": [
    "def plot_confusion_matrix(y,y_predict):\n",
    "\n",
    "    cm = confusion_matrix(y, y_predict)\n",
    "    ax= plt.subplot()\n",
    "    sns.heatmap(cm, annot=True, ax = ax); \n",
    "    ax.set_xlabel('Predicted labels')\n",
    "    ax.set_ylabel('True labels')\n",
    "    ax.set_title('Confusion Matrix'); \n",
    "    ax.xaxis.set_ticklabels(['not edge', 'edge']); \n",
    "    ax.yaxis.set_ticklabels(['not edge', 'edge'])"
   ]
  },
  {
   "cell_type": "markdown",
   "id": "63e5d4ba-e12e-48f2-9bd9-c982176b49e5",
   "metadata": {},
   "source": [
    "Reading the graph"
   ]
  },
  {
   "cell_type": "code",
   "execution_count": 3,
   "id": "51c542a2-913f-4f5b-bead-f57a844486e7",
   "metadata": {},
   "outputs": [],
   "source": [
    "G = nx.read_gml(\"GraphMissingEdges.gml\")\n",
    "#categories = pd.read_csv('categories.csv')"
   ]
  },
  {
   "cell_type": "code",
   "execution_count": 4,
   "id": "0e5373b9-0d15-40a0-a67e-4f8a4adb0316",
   "metadata": {},
   "outputs": [
    {
     "data": {
      "text/plain": [
       "'Graph with 4575 nodes and 18991 edges'"
      ]
     },
     "execution_count": 4,
     "metadata": {},
     "output_type": "execute_result"
    }
   ],
   "source": [
    "nx.info(G) #graph info"
   ]
  },
  {
   "cell_type": "markdown",
   "id": "a1835d79-bce5-4189-9f03-67761bae54e9",
   "metadata": {
    "tags": []
   },
   "source": [
    "Selecting 'edges' e 'non_edges' samples"
   ]
  },
  {
   "cell_type": "code",
   "execution_count": 5,
   "id": "232d5790-a7ee-4b69-8a82-4aa0aba1c634",
   "metadata": {},
   "outputs": [],
   "source": [
    "null_edges = list(nx.non_edges(G))\n",
    "edges = list(nx.edges(G))\n",
    "m = len(edges)\n",
    "#nodes = list(G.nodes)\n",
    "null_edges_sample = random.sample(null_edges, m) #selecting the size of non_edges in the same size of edges\n",
    "#n = len(null_edges_sample)    "
   ]
  },
  {
   "cell_type": "markdown",
   "id": "bbeea4d9-4b8d-413e-a557-3954d05bd750",
   "metadata": {},
   "source": [
    "Defining train set (edges and non_edges) equaly"
   ]
  },
  {
   "cell_type": "code",
   "execution_count": 6,
   "id": "673b489e-2726-42a5-b5ae-ee2b2e3579e7",
   "metadata": {},
   "outputs": [],
   "source": [
    "#prop = 0.2\n",
    "#edges_subset = random.sample(edges, int(prop * m))\n",
    "#null_edges_subset = random.sample(null_edges_sample, int(prop * n))\n",
    "\n",
    "#g_train = G.copy()\n",
    "#g_train.remove_edges_from(edges_subset)\n",
    "\n",
    "train_edges = edges\n",
    "train_edges_false = null_edges_sample\n",
    "#train_edges_false = list((Counter(null_edges_sample) - Counter(null_edges_subset)).elements())\n",
    "\n",
    "#test_edges = list(edges_subset)\n",
    "#test_edges_false = list(null_edges_subset)"
   ]
  },
  {
   "cell_type": "code",
   "execution_count": 7,
   "id": "de6d41b6-237c-4064-ab15-7ccc87e6a6dc",
   "metadata": {},
   "outputs": [
    {
     "name": "stdout",
     "output_type": "stream",
     "text": [
      "18991 18991\n"
     ]
    }
   ],
   "source": [
    "print(len(train_edges), len(train_edges_false))\n",
    "#print(len(test_edges), len(test_edges_false))\n",
    "#print(nx.info(g_train))"
   ]
  },
  {
   "cell_type": "markdown",
   "id": "1c22e1fc-b243-4e64-9ba9-3550fb851ede",
   "metadata": {},
   "source": [
    "Obtaining jaccard coefficient of edges and non_edges training set"
   ]
  },
  {
   "cell_type": "code",
   "execution_count": 8,
   "id": "54f93b8e-69eb-47a9-b76c-bcad0318d345",
   "metadata": {},
   "outputs": [],
   "source": [
    "pred_jc_true = nx.jaccard_coefficient(G, train_edges)\n",
    "pred_jc_false = nx.jaccard_coefficient(G, train_edges_false)"
   ]
  },
  {
   "cell_type": "code",
   "execution_count": 9,
   "id": "70d0f67f-e0be-43c5-a9b3-6d3937dbf33e",
   "metadata": {},
   "outputs": [],
   "source": [
    "jc_true = []\n",
    "jc_false = []\n",
    "jc_scores = []\n",
    "node1 = []\n",
    "node2 = []\n",
    "\n",
    "for u, v, p in pred_jc_true:\n",
    "    node1.append(u)\n",
    "    node2.append(v)\n",
    "    jc_true.append(p)\n",
    "for u, v, p in pred_jc_false:\n",
    "    node1.append(u)\n",
    "    node2.append(v)\n",
    "    jc_false.append(p)\n",
    "\n",
    "jc_scores = jc_true + jc_false\n",
    "\n",
    "df_dict = {}\n",
    "df_dict['Node1'] = node1\n",
    "df_dict['Node2'] = node2\n",
    "df_dict['JC_score'] = jc_scores"
   ]
  },
  {
   "cell_type": "markdown",
   "id": "907fcb07-fab6-45fd-8cd9-0530ea9cfeb9",
   "metadata": {},
   "source": [
    "Obtaining preferential attachment coefficient of edges and non_edges training set"
   ]
  },
  {
   "cell_type": "code",
   "execution_count": 10,
   "id": "529058d2-2bef-481b-8cc4-e6d050fec203",
   "metadata": {},
   "outputs": [],
   "source": [
    "pred_pa_true = nx.preferential_attachment(G, train_edges)\n",
    "pred_pa_false = nx.preferential_attachment(G, train_edges_false)"
   ]
  },
  {
   "cell_type": "code",
   "execution_count": 11,
   "id": "0e549cb9-95cb-4561-8c0a-c1575734a046",
   "metadata": {},
   "outputs": [],
   "source": [
    "pa_true = []\n",
    "pa_false = []\n",
    "pa_scores = []\n",
    "\n",
    "pa_scores = [s for (u,v,s) in pred_pa_true] + [s for (u,v,s) in pred_pa_false]\n",
    "   \n",
    "df_dict['PA_score'] = pa_scores "
   ]
  },
  {
   "cell_type": "markdown",
   "id": "70e63596-5b3c-4cb7-a8c0-4964a5cf3533",
   "metadata": {},
   "source": [
    "Obtaining resource allocation index of edges and non_edges training set"
   ]
  },
  {
   "cell_type": "code",
   "execution_count": 12,
   "id": "f1b6d469-565c-4aa5-b66f-a30db954f821",
   "metadata": {},
   "outputs": [],
   "source": [
    "pred_ra_true = nx.resource_allocation_index(G, train_edges)\n",
    "pred_ra_false = nx.resource_allocation_index(G, train_edges_false)"
   ]
  },
  {
   "cell_type": "code",
   "execution_count": 13,
   "id": "a3a6078f-563c-4432-a460-65640b61b913",
   "metadata": {},
   "outputs": [],
   "source": [
    "ra_true = []\n",
    "ra_false = []\n",
    "ra_scores = []\n",
    "\n",
    "ra_scores = [s for (u,v,s) in pred_ra_true] + [s for (u,v,s) in pred_ra_false]\n",
    "\n",
    "df_dict['RA_score'] = ra_scores"
   ]
  },
  {
   "cell_type": "markdown",
   "id": "042478b6-844b-47d3-859f-bb7fa3e57700",
   "metadata": {},
   "source": [
    "***The following measures was not possible because results in \"by zero division\""
   ]
  },
  {
   "cell_type": "code",
   "execution_count": 14,
   "id": "dbca737b-66c5-4654-a648-cafd55eea614",
   "metadata": {},
   "outputs": [],
   "source": [
    "#pred_cn_true = common_neighbor_centrality(G, train_edges)\n",
    "#pred_cn_false = common_neighbor_centrality(G, train_edges_false)"
   ]
  },
  {
   "cell_type": "code",
   "execution_count": 15,
   "id": "496e8171-424c-40b2-be2e-f8ce2b65a15d",
   "metadata": {},
   "outputs": [],
   "source": [
    "#cn_true = []\n",
    "#cn_false = []\n",
    "\n",
    "#for u, v, p in pred_cn_true:\n",
    "#    cn_true.append(p)\n",
    "#for u, v, p in pred_cn_false:\n",
    "#    cn_false.append(p)\n",
    "    \n",
    "#df_dict['CN_score'] = cn_true + cn_false"
   ]
  },
  {
   "cell_type": "code",
   "execution_count": 16,
   "id": "d98d7219-ab89-4a8f-b7e0-4da4d3f1276f",
   "metadata": {},
   "outputs": [],
   "source": [
    "#pred_aa_true = nx.adamic_adar_index(G, train_edges)\n",
    "#pred_aa_false = nx.adamic_adar_index(G, train_edges_false)\n",
    "\n",
    "#aa_score = [s for (u,v,s) in pred_aa_true] + [s for (u,v,s) in pred_aa_false]"
   ]
  },
  {
   "cell_type": "code",
   "execution_count": 17,
   "id": "55c2ff7b-583d-4bef-b3bd-aaa58794f2a9",
   "metadata": {},
   "outputs": [],
   "source": [
    "#aa_true = []\n",
    "#aa_false = []\n",
    "\n",
    "#for u, v, p in pred_aa_true:\n",
    "#    aa_true.append(p)\n",
    "#for u, v, p in pred_aa_false:\n",
    "#    aa_false.append(p)\n",
    "    \n",
    "#df_dict['AA_score'] = aa_true + aa_false"
   ]
  },
  {
   "cell_type": "markdown",
   "id": "3ecbf940-7f9f-4a54-959a-5c4d7d2a8968",
   "metadata": {},
   "source": [
    "Defining labels of edges as 1 and non_edges as 0"
   ]
  },
  {
   "cell_type": "code",
   "execution_count": 18,
   "id": "940c2b4c-05c2-457a-8fff-f04e6c609807",
   "metadata": {},
   "outputs": [],
   "source": [
    "is_edge = [ 1 ] * len(train_edges) + [ 0 ] * len(train_edges_false)\n",
    "df_dict['is_edge'] = is_edge"
   ]
  },
  {
   "cell_type": "markdown",
   "id": "653c2233-c469-4355-a4ad-384f1e335a29",
   "metadata": {},
   "source": [
    "Creating a dataframe based on Jaccard Coefficient, Preferential Attachment and Resource Allocation Index"
   ]
  },
  {
   "cell_type": "code",
   "execution_count": 19,
   "id": "9ad06e7b-485d-416d-8b27-1325f36758da",
   "metadata": {},
   "outputs": [],
   "source": [
    "df = pd.DataFrame(df_dict)\n",
    "df = df.sample(frac=1).reset_index(drop=True)"
   ]
  },
  {
   "cell_type": "code",
   "execution_count": 20,
   "id": "4f9f8df1-5f73-437e-98bf-fc3c788aa79c",
   "metadata": {},
   "outputs": [
    {
     "data": {
      "text/html": [
       "<div>\n",
       "<style scoped>\n",
       "    .dataframe tbody tr th:only-of-type {\n",
       "        vertical-align: middle;\n",
       "    }\n",
       "\n",
       "    .dataframe tbody tr th {\n",
       "        vertical-align: top;\n",
       "    }\n",
       "\n",
       "    .dataframe thead th {\n",
       "        text-align: right;\n",
       "    }\n",
       "</style>\n",
       "<table border=\"1\" class=\"dataframe\">\n",
       "  <thead>\n",
       "    <tr style=\"text-align: right;\">\n",
       "      <th></th>\n",
       "      <th>Node1</th>\n",
       "      <th>Node2</th>\n",
       "      <th>JC_score</th>\n",
       "      <th>PA_score</th>\n",
       "      <th>RA_score</th>\n",
       "      <th>is_edge</th>\n",
       "    </tr>\n",
       "  </thead>\n",
       "  <tbody>\n",
       "    <tr>\n",
       "      <th>0</th>\n",
       "      <td>n_wY0w5KUlL2wo2d4fDq-g</td>\n",
       "      <td>17DImn_vPnuwU9hhRFXlUA</td>\n",
       "      <td>0.0</td>\n",
       "      <td>77</td>\n",
       "      <td>0.0</td>\n",
       "      <td>0</td>\n",
       "    </tr>\n",
       "    <tr>\n",
       "      <th>1</th>\n",
       "      <td>hDD6-yk1yuuRIvfdtHsISg</td>\n",
       "      <td>SLEs-l3CaZn2KRUL8GRAZg</td>\n",
       "      <td>0.0</td>\n",
       "      <td>116</td>\n",
       "      <td>0.0</td>\n",
       "      <td>0</td>\n",
       "    </tr>\n",
       "    <tr>\n",
       "      <th>2</th>\n",
       "      <td>4LiieRb-_r9pUCM0mKS9XA</td>\n",
       "      <td>cYzbqbWg-RRhqB8eYesuLg</td>\n",
       "      <td>0.0</td>\n",
       "      <td>75</td>\n",
       "      <td>0.0</td>\n",
       "      <td>1</td>\n",
       "    </tr>\n",
       "    <tr>\n",
       "      <th>3</th>\n",
       "      <td>3eexaenBq8HvkTiYjVl3Pg</td>\n",
       "      <td>pwAUK5IdkBV2ddliPvNx-g</td>\n",
       "      <td>0.0</td>\n",
       "      <td>282</td>\n",
       "      <td>0.0</td>\n",
       "      <td>0</td>\n",
       "    </tr>\n",
       "    <tr>\n",
       "      <th>4</th>\n",
       "      <td>IydiH1DIlyvwvpbkC9m42Q</td>\n",
       "      <td>o47aY911-1rK9tHeXOWxFg</td>\n",
       "      <td>0.0</td>\n",
       "      <td>324</td>\n",
       "      <td>0.0</td>\n",
       "      <td>1</td>\n",
       "    </tr>\n",
       "  </tbody>\n",
       "</table>\n",
       "</div>"
      ],
      "text/plain": [
       "                    Node1                   Node2  JC_score  PA_score  \\\n",
       "0  n_wY0w5KUlL2wo2d4fDq-g  17DImn_vPnuwU9hhRFXlUA       0.0        77   \n",
       "1  hDD6-yk1yuuRIvfdtHsISg  SLEs-l3CaZn2KRUL8GRAZg       0.0       116   \n",
       "2  4LiieRb-_r9pUCM0mKS9XA  cYzbqbWg-RRhqB8eYesuLg       0.0        75   \n",
       "3  3eexaenBq8HvkTiYjVl3Pg  pwAUK5IdkBV2ddliPvNx-g       0.0       282   \n",
       "4  IydiH1DIlyvwvpbkC9m42Q  o47aY911-1rK9tHeXOWxFg       0.0       324   \n",
       "\n",
       "   RA_score  is_edge  \n",
       "0       0.0        0  \n",
       "1       0.0        0  \n",
       "2       0.0        1  \n",
       "3       0.0        0  \n",
       "4       0.0        1  "
      ]
     },
     "execution_count": 20,
     "metadata": {},
     "output_type": "execute_result"
    }
   ],
   "source": [
    "df.head()"
   ]
  },
  {
   "cell_type": "markdown",
   "id": "b3a11a5e-25e9-4f91-b220-b223d9d8aafd",
   "metadata": {},
   "source": [
    "Labels are perfectly balanced due to samples taken equally before"
   ]
  },
  {
   "cell_type": "code",
   "execution_count": 21,
   "id": "5330406e-ac0f-4132-b21a-123ec603a0a6",
   "metadata": {},
   "outputs": [
    {
     "data": {
      "text/plain": [
       "<AxesSubplot:xlabel='is_edge', ylabel='count'>"
      ]
     },
     "execution_count": 21,
     "metadata": {},
     "output_type": "execute_result"
    },
    {
     "data": {
      "image/png": "[encoded data removed]",
      "text/plain": [
       "<Figure size 432x288 with 1 Axes>"
      ]
     },
     "metadata": {
      "needs_background": "light"
     },
     "output_type": "display_data"
    }
   ],
   "source": [
    "sns.countplot(x=df[\"is_edge\"])"
   ]
  },
  {
   "cell_type": "code",
   "execution_count": 22,
   "id": "e6dcaa99-99ca-475f-acc0-12b0268b78de",
   "metadata": {},
   "outputs": [
    {
     "data": {
      "text/html": [
       "<div>\n",
       "<style scoped>\n",
       "    .dataframe tbody tr th:only-of-type {\n",
       "        vertical-align: middle;\n",
       "    }\n",
       "\n",
       "    .dataframe tbody tr th {\n",
       "        vertical-align: top;\n",
       "    }\n",
       "\n",
       "    .dataframe thead th {\n",
       "        text-align: right;\n",
       "    }\n",
       "</style>\n",
       "<table border=\"1\" class=\"dataframe\">\n",
       "  <thead>\n",
       "    <tr style=\"text-align: right;\">\n",
       "      <th></th>\n",
       "      <th>JC_score</th>\n",
       "      <th>PA_score</th>\n",
       "      <th>RA_score</th>\n",
       "      <th>is_edge</th>\n",
       "    </tr>\n",
       "  </thead>\n",
       "  <tbody>\n",
       "    <tr>\n",
       "      <th>count</th>\n",
       "      <td>37982.000000</td>\n",
       "      <td>37982.000000</td>\n",
       "      <td>37982.000000</td>\n",
       "      <td>37982.000000</td>\n",
       "    </tr>\n",
       "    <tr>\n",
       "      <th>mean</th>\n",
       "      <td>0.021675</td>\n",
       "      <td>886.480938</td>\n",
       "      <td>0.059731</td>\n",
       "      <td>0.500000</td>\n",
       "    </tr>\n",
       "    <tr>\n",
       "      <th>std</th>\n",
       "      <td>0.092836</td>\n",
       "      <td>2477.712646</td>\n",
       "      <td>0.422614</td>\n",
       "      <td>0.500007</td>\n",
       "    </tr>\n",
       "    <tr>\n",
       "      <th>min</th>\n",
       "      <td>0.000000</td>\n",
       "      <td>0.000000</td>\n",
       "      <td>0.000000</td>\n",
       "      <td>0.000000</td>\n",
       "    </tr>\n",
       "    <tr>\n",
       "      <th>25%</th>\n",
       "      <td>0.000000</td>\n",
       "      <td>7.000000</td>\n",
       "      <td>0.000000</td>\n",
       "      <td>0.000000</td>\n",
       "    </tr>\n",
       "    <tr>\n",
       "      <th>50%</th>\n",
       "      <td>0.000000</td>\n",
       "      <td>69.000000</td>\n",
       "      <td>0.000000</td>\n",
       "      <td>0.500000</td>\n",
       "    </tr>\n",
       "    <tr>\n",
       "      <th>75%</th>\n",
       "      <td>0.017857</td>\n",
       "      <td>612.000000</td>\n",
       "      <td>0.015808</td>\n",
       "      <td>1.000000</td>\n",
       "    </tr>\n",
       "    <tr>\n",
       "      <th>max</th>\n",
       "      <td>0.995671</td>\n",
       "      <td>53824.000000</td>\n",
       "      <td>20.762719</td>\n",
       "      <td>1.000000</td>\n",
       "    </tr>\n",
       "  </tbody>\n",
       "</table>\n",
       "</div>"
      ],
      "text/plain": [
       "           JC_score      PA_score      RA_score       is_edge\n",
       "count  37982.000000  37982.000000  37982.000000  37982.000000\n",
       "mean       0.021675    886.480938      0.059731      0.500000\n",
       "std        0.092836   2477.712646      0.422614      0.500007\n",
       "min        0.000000      0.000000      0.000000      0.000000\n",
       "25%        0.000000      7.000000      0.000000      0.000000\n",
       "50%        0.000000     69.000000      0.000000      0.500000\n",
       "75%        0.017857    612.000000      0.015808      1.000000\n",
       "max        0.995671  53824.000000     20.762719      1.000000"
      ]
     },
     "execution_count": 22,
     "metadata": {},
     "output_type": "execute_result"
    }
   ],
   "source": [
    "df.describe()"
   ]
  },
  {
   "cell_type": "markdown",
   "id": "7aa4690a-9b58-4cec-8a48-0e87f5e02b3e",
   "metadata": {},
   "source": [
    "Standardizing features by removing the mean and scaling to unit variance - StandardScaler"
   ]
  },
  {
   "cell_type": "code",
   "execution_count": 23,
   "id": "819862a3-86f0-48a7-90f6-216ac4b691b6",
   "metadata": {},
   "outputs": [],
   "source": [
    "feature_names = ['JC_score', 'PA_score', 'RA_score']\n",
    "X = df[feature_names]\n",
    "y = df['is_edge'].to_numpy()\n",
    "\n",
    "scaler = StandardScaler()\n",
    "scaler.fit(X)\n",
    "X = scaler.transform(X)"
   ]
  },
  {
   "cell_type": "markdown",
   "id": "28dde459-f8a2-47ae-bb64-5f31154b310d",
   "metadata": {},
   "source": [
    "Splitting in train and test data"
   ]
  },
  {
   "cell_type": "code",
   "execution_count": 24,
   "id": "d44e187e-d012-44b6-8158-ac9de094c166",
   "metadata": {},
   "outputs": [],
   "source": [
    "X_train, X_test, y_train, y_test = train_test_split(X, y, test_size=0.2, random_state=0)"
   ]
  },
  {
   "cell_type": "markdown",
   "id": "28e6792e-d2ac-4741-a463-492f4909e46a",
   "metadata": {},
   "source": [
    "## Testing different classification algorithms"
   ]
  },
  {
   "cell_type": "markdown",
   "id": "a0c32d16-f0e1-451b-85e1-c5a563ff99fd",
   "metadata": {},
   "source": [
    "### Logistic Regression"
   ]
  },
  {
   "cell_type": "code",
   "execution_count": 25,
   "id": "af086da9-4e32-4d51-9910-f64c97668e73",
   "metadata": {},
   "outputs": [
    {
     "data": {
      "text/plain": [
       "LogisticRegression()"
      ]
     },
     "execution_count": 25,
     "metadata": {},
     "output_type": "execute_result"
    }
   ],
   "source": [
    "logreg = LogisticRegression()\n",
    "logreg.fit(X_train, y_train)"
   ]
  },
  {
   "cell_type": "code",
   "execution_count": 26,
   "id": "224b6208-2bdb-47be-87b1-46cfaa11bd61",
   "metadata": {},
   "outputs": [
    {
     "name": "stdout",
     "output_type": "stream",
     "text": [
      "Accuracy of Logistic regression classifier on training set: 0.81\n",
      "Accuracy of Logistic regression classifier on test set: 0.80\n"
     ]
    }
   ],
   "source": [
    "logreg_score = logreg.score(X_test, y_test)\n",
    "print('Accuracy of Logistic regression classifier on training set: {:.2f}'\n",
    "     .format(logreg.score(X_train, y_train)))\n",
    "print('Accuracy of Logistic regression classifier on test set: {:.2f}'\n",
    "     .format(logreg_score))"
   ]
  },
  {
   "cell_type": "code",
   "execution_count": 27,
   "id": "9848a186-3c8a-4107-8736-ffd0d6cf2e79",
   "metadata": {},
   "outputs": [
    {
     "data": {
      "image/png": "[encoded data removed]",
      "text/plain": [
       "<Figure size 432x288 with 2 Axes>"
      ]
     },
     "metadata": {
      "needs_background": "light"
     },
     "output_type": "display_data"
    }
   ],
   "source": [
    "yhat_lr=logreg.predict(X_test)\n",
    "plot_confusion_matrix(y_test,yhat_lr)"
   ]
  },
  {
   "cell_type": "markdown",
   "id": "30938202-e5fd-4c5d-a1b6-fbdc3ecc9758",
   "metadata": {},
   "source": [
    "### Decision Tree Classifier"
   ]
  },
  {
   "cell_type": "code",
   "execution_count": 28,
   "id": "b863b11f-ef5c-43fe-a6ed-10a5f90735be",
   "metadata": {},
   "outputs": [
    {
     "data": {
      "text/plain": [
       "DecisionTreeClassifier()"
      ]
     },
     "execution_count": 28,
     "metadata": {},
     "output_type": "execute_result"
    }
   ],
   "source": [
    "clf = DecisionTreeClassifier()\n",
    "clf.fit(X_train, y_train)"
   ]
  },
  {
   "cell_type": "code",
   "execution_count": 29,
   "id": "830b671f-6f81-44d1-91f2-dba55a79c056",
   "metadata": {},
   "outputs": [
    {
     "name": "stdout",
     "output_type": "stream",
     "text": [
      "Accuracy of Decision Tree classifier on training set: 0.86\n",
      "Accuracy of Decision Tree classifier on test set: 0.82\n"
     ]
    }
   ],
   "source": [
    "dt_score = clf.score(X_test, y_test)\n",
    "print('Accuracy of Decision Tree classifier on training set: {:.2f}'\n",
    "     .format(clf.score(X_train, y_train)))\n",
    "print('Accuracy of Decision Tree classifier on test set: {:.2f}'\n",
    "     .format(dt_score))"
   ]
  },
  {
   "cell_type": "code",
   "execution_count": 30,
   "id": "673ab492-9922-4fcd-acda-fe9dc6c58451",
   "metadata": {},
   "outputs": [
    {
     "data": {
      "image/png": "[encoded data removed]",
      "text/plain": [
       "<Figure size 432x288 with 2 Axes>"
      ]
     },
     "metadata": {
      "needs_background": "light"
     },
     "output_type": "display_data"
    }
   ],
   "source": [
    "yhat_clf=clf.predict(X_test)\n",
    "plot_confusion_matrix(y_test,yhat_clf)"
   ]
  },
  {
   "cell_type": "markdown",
   "id": "3220eab9-a116-4c34-ba9d-ab7f669da9e9",
   "metadata": {},
   "source": [
    "### K-Nearest Neighbors"
   ]
  },
  {
   "cell_type": "code",
   "execution_count": 31,
   "id": "b494401b-991c-4ac4-adc7-4efbe77a7360",
   "metadata": {},
   "outputs": [
    {
     "data": {
      "text/plain": [
       "KNeighborsClassifier()"
      ]
     },
     "execution_count": 31,
     "metadata": {},
     "output_type": "execute_result"
    }
   ],
   "source": [
    "knn = KNeighborsClassifier()\n",
    "knn.fit(X_train, y_train)"
   ]
  },
  {
   "cell_type": "code",
   "execution_count": 32,
   "id": "fc467d23-3635-474f-b79f-00c1a9de5707",
   "metadata": {},
   "outputs": [
    {
     "name": "stdout",
     "output_type": "stream",
     "text": [
      "Accuracy of K-NN classifier on training set: 0.83\n",
      "Accuracy of K-NN classifier on test set: 0.82\n"
     ]
    }
   ],
   "source": [
    "knn_score = knn.score(X_test, y_test)\n",
    "print('Accuracy of K-NN classifier on training set: {:.2f}'\n",
    "     .format(knn.score(X_train, y_train)))\n",
    "print('Accuracy of K-NN classifier on test set: {:.2f}'\n",
    "     .format(knn_score))"
   ]
  },
  {
   "cell_type": "code",
   "execution_count": 33,
   "id": "c0869185-45e1-47ab-9560-8404bf0c690d",
   "metadata": {},
   "outputs": [
    {
     "data": {
      "image/png": "[encoded data removed]",
      "text/plain": [
       "<Figure size 432x288 with 2 Axes>"
      ]
     },
     "metadata": {
      "needs_background": "light"
     },
     "output_type": "display_data"
    }
   ],
   "source": [
    "yhat_knn=knn.predict(X_test)\n",
    "plot_confusion_matrix(y_test,yhat_knn)"
   ]
  },
  {
   "cell_type": "markdown",
   "id": "f0298cb7-bc59-4fde-9f30-9f3dd33544ef",
   "metadata": {},
   "source": [
    "### Linear Discriminant Analysis"
   ]
  },
  {
   "cell_type": "code",
   "execution_count": 34,
   "id": "22ac8bb0-31d8-4454-aec0-98117bf84c61",
   "metadata": {},
   "outputs": [
    {
     "data": {
      "text/plain": [
       "LinearDiscriminantAnalysis()"
      ]
     },
     "execution_count": 34,
     "metadata": {},
     "output_type": "execute_result"
    }
   ],
   "source": [
    "lda = LinearDiscriminantAnalysis()\n",
    "lda.fit(X_train, y_train)"
   ]
  },
  {
   "cell_type": "code",
   "execution_count": 35,
   "id": "1c4b3d0b-c734-4020-9647-7b0cc5726385",
   "metadata": {},
   "outputs": [
    {
     "name": "stdout",
     "output_type": "stream",
     "text": [
      "Accuracy of LDA classifier on training set: 0.72\n",
      "Accuracy of LDA classifier on test set: 0.72\n"
     ]
    }
   ],
   "source": [
    "lda_score = lda.score(X_test, y_test) \n",
    "print('Accuracy of LDA classifier on training set: {:.2f}'\n",
    "     .format(lda.score(X_train, y_train)))\n",
    "print('Accuracy of LDA classifier on test set: {:.2f}'\n",
    "     .format(lda_score))"
   ]
  },
  {
   "cell_type": "code",
   "execution_count": 36,
   "id": "897f2f37-8869-4402-91e5-624aa511a172",
   "metadata": {},
   "outputs": [
    {
     "data": {
      "image/png": "[encoded data removed]",
      "text/plain": [
       "<Figure size 432x288 with 2 Axes>"
      ]
     },
     "metadata": {
      "needs_background": "light"
     },
     "output_type": "display_data"
    }
   ],
   "source": [
    "yhat_lda=lda.predict(X_test)\n",
    "plot_confusion_matrix(y_test,yhat_lda)"
   ]
  },
  {
   "cell_type": "markdown",
   "id": "64cbda32-c26e-42f5-93aa-abf18594ae9b",
   "metadata": {},
   "source": [
    "### Gaussian Naive Bayes"
   ]
  },
  {
   "cell_type": "code",
   "execution_count": 37,
   "id": "0a3353bb-d6a5-426c-8139-753deaf4c471",
   "metadata": {},
   "outputs": [
    {
     "data": {
      "text/plain": [
       "GaussianNB()"
      ]
     },
     "execution_count": 37,
     "metadata": {},
     "output_type": "execute_result"
    }
   ],
   "source": [
    "gnb = GaussianNB()\n",
    "gnb.fit(X_train, y_train)"
   ]
  },
  {
   "cell_type": "code",
   "execution_count": 38,
   "id": "01c34c5f-bef8-4c61-8c3a-d904b4d5e26f",
   "metadata": {},
   "outputs": [
    {
     "name": "stdout",
     "output_type": "stream",
     "text": [
      "Accuracy of GNB classifier on training set: 0.72\n",
      "Accuracy of GNB classifier on test set: 0.72\n"
     ]
    }
   ],
   "source": [
    "gnb_score = gnb.score(X_test, y_test)\n",
    "print('Accuracy of GNB classifier on training set: {:.2f}'\n",
    "     .format(gnb.score(X_train, y_train)))\n",
    "print('Accuracy of GNB classifier on test set: {:.2f}'\n",
    "     .format(gnb_score))"
   ]
  },
  {
   "cell_type": "code",
   "execution_count": 39,
   "id": "ce1ac2ab-7f1f-4b70-a82f-cbd5acd07eb2",
   "metadata": {},
   "outputs": [
    {
     "data": {
      "image/png": "[encoded data removed]",
      "text/plain": [
       "<Figure size 432x288 with 2 Axes>"
      ]
     },
     "metadata": {
      "needs_background": "light"
     },
     "output_type": "display_data"
    }
   ],
   "source": [
    "yhat_gnb=gnb.predict(X_test)\n",
    "plot_confusion_matrix(y_test,yhat_gnb)"
   ]
  },
  {
   "cell_type": "markdown",
   "id": "e4a46950-86e4-4586-8c94-e2a24f13c068",
   "metadata": {},
   "source": [
    "### Support Vector Machine"
   ]
  },
  {
   "cell_type": "code",
   "execution_count": 40,
   "id": "f6d81572-57f7-4ee7-a0ef-53e509c5d4f9",
   "metadata": {},
   "outputs": [
    {
     "data": {
      "text/plain": [
       "SVC()"
      ]
     },
     "execution_count": 40,
     "metadata": {},
     "output_type": "execute_result"
    }
   ],
   "source": [
    "svm = SVC()\n",
    "svm.fit(X_train, y_train)"
   ]
  },
  {
   "cell_type": "code",
   "execution_count": 41,
   "id": "2a88d673-403d-4199-9a26-e6953524f4c0",
   "metadata": {},
   "outputs": [
    {
     "name": "stdout",
     "output_type": "stream",
     "text": [
      "Accuracy of SVM classifier on training set: 0.82\n",
      "Accuracy of SVM classifier on test set: 0.82\n"
     ]
    }
   ],
   "source": [
    "svm_score = svm.score(X_test, y_test)\n",
    "print('Accuracy of SVM classifier on training set: {:.2f}'\n",
    "     .format(svm.score(X_train, y_train)))\n",
    "print('Accuracy of SVM classifier on test set: {:.2f}'\n",
    "     .format(svm_score))"
   ]
  },
  {
   "cell_type": "code",
   "execution_count": 42,
   "id": "f7c01584-f8cd-4f07-a467-310810d3dcf2",
   "metadata": {},
   "outputs": [
    {
     "data": {
      "image/png": "[encoded data removed]",
      "text/plain": [
       "<Figure size 432x288 with 2 Axes>"
      ]
     },
     "metadata": {
      "needs_background": "light"
     },
     "output_type": "display_data"
    }
   ],
   "source": [
    "yhat_svc=svm.predict(X_test)\n",
    "plot_confusion_matrix(y_test,yhat_svc)"
   ]
  },
  {
   "cell_type": "markdown",
   "id": "35096c8c-49e4-478b-b11f-2641c95b60b9",
   "metadata": {},
   "source": [
    "#### Plotting accuracy scores"
   ]
  },
  {
   "cell_type": "code",
   "execution_count": 43,
   "id": "4c97ab41-fe18-4b7e-97c0-a1ef28a92d73",
   "metadata": {},
   "outputs": [
    {
     "data": {
      "image/png": "[encoded data removed]",
      "text/plain": [
       "<Figure size 432x288 with 1 Axes>"
      ]
     },
     "metadata": {
      "needs_background": "light"
     },
     "output_type": "display_data"
    }
   ],
   "source": [
    "scores = {'LogReg':logreg_score, 'SVM':svm_score,'KNN':knn_score,\n",
    "           'DT':dt_score, 'GNB':gnb_score, 'LDA':lda_score}\n",
    "\n",
    "keys = list(scores.keys())\n",
    "values = list(scores.values())\n",
    "sns.barplot(x=keys, y=values, palette=\"mako\")\n",
    "\n",
    "plt.xlabel('Classification Algorithm', fontsize = 15)\n",
    "plt.ylabel('Scores', fontsize = 15)\n",
    "plt.show()"
   ]
  },
  {
   "cell_type": "markdown",
   "id": "711e8807-050d-49f9-a805-a6bafc0b62ec",
   "metadata": {},
   "source": [
    "Saving the best models - KNN and Decision Tree Classifier"
   ]
  },
  {
   "cell_type": "code",
   "execution_count": 44,
   "id": "626f75b0-6ee0-4f5e-9b49-42225098566c",
   "metadata": {},
   "outputs": [],
   "source": [
    "dump(knn, open('model_knn.pkl', 'wb'))\n",
    "dump(clf, open('model_clf.pkl', 'wb'))\n",
    "\n",
    "dump(scaler, open('scaler.pkl', 'wb'))"
   ]
  },
  {
   "cell_type": "markdown",
   "id": "4d14c17e-550c-492c-b1e2-dc7e565a1b10",
   "metadata": {},
   "source": [
    "Calculating MSE of all tested models to compare"
   ]
  },
  {
   "cell_type": "code",
   "execution_count": 45,
   "id": "0f8a7e52-f9fb-4bcd-b8fa-27bc619f9ebd",
   "metadata": {},
   "outputs": [],
   "source": [
    "from sklearn.metrics import mean_squared_error"
   ]
  },
  {
   "cell_type": "code",
   "execution_count": 46,
   "id": "6cc3fe37-21a6-4d67-9c66-5e91e7ac52af",
   "metadata": {},
   "outputs": [],
   "source": [
    "mse_logreg = mean_squared_error(y_test, yhat_lr)\n",
    "mse_svm = mean_squared_error(y_test, yhat_svc)\n",
    "mse_knn = mean_squared_error(y_test, yhat_knn)\n",
    "mse_dt = mean_squared_error(y_test, yhat_clf)\n",
    "mse_gnb = mean_squared_error(y_test, yhat_gnb)\n",
    "mse_lda = mean_squared_error(y_test, yhat_lda)"
   ]
  },
  {
   "cell_type": "code",
   "execution_count": 47,
   "id": "75306367-6533-4294-bd8c-0576edb33bc4",
   "metadata": {},
   "outputs": [
    {
     "data": {
      "image/png": "[encoded data removed]",
      "text/plain": [
       "<Figure size 432x288 with 1 Axes>"
      ]
     },
     "metadata": {
      "needs_background": "light"
     },
     "output_type": "display_data"
    }
   ],
   "source": [
    "scores_mse = {'LogReg':mse_logreg, 'SVM':mse_svm,'KNN':mse_knn,\n",
    "           'DT':mse_dt, 'GNB':mse_gnb, 'LDA':mse_lda}\n",
    "\n",
    "keys_mse = list(scores_mse.keys())\n",
    "values_mse = list(scores_mse.values())\n",
    "sns.barplot(x=keys_mse, y=values_mse, palette=\"mako\")\n",
    "\n",
    "plt.xlabel('Classification Algorithm', fontsize = 15)\n",
    "plt.ylabel('MSE Scores', fontsize = 15)\n",
    "plt.show()"
   ]
  },
  {
   "cell_type": "markdown",
   "id": "423d31b9-7bbc-407f-9d90-6eec8b2bc8b8",
   "metadata": {},
   "source": [
    "Calculating F1 Score of all tested models to compare"
   ]
  },
  {
   "cell_type": "code",
   "execution_count": 48,
   "id": "33c97f25-bfdc-43cf-9aaa-d6e2ff239d52",
   "metadata": {},
   "outputs": [],
   "source": [
    "from sklearn.metrics import f1_score"
   ]
  },
  {
   "cell_type": "code",
   "execution_count": 49,
   "id": "c0f4f619-aac4-494d-8f00-a54132ba30ac",
   "metadata": {},
   "outputs": [],
   "source": [
    "f1_logreg = f1_score(y_test, yhat_lr)\n",
    "f1_svm = f1_score(y_test, yhat_svc)\n",
    "f1_knn = f1_score(y_test, yhat_knn)\n",
    "f1_dt = f1_score(y_test, yhat_clf)\n",
    "f1_gnb = f1_score(y_test, yhat_gnb)\n",
    "f1_lda = f1_score(y_test, yhat_lda)"
   ]
  },
  {
   "cell_type": "code",
   "execution_count": 50,
   "id": "4992c043-a095-4c71-a881-81ba5729eff7",
   "metadata": {},
   "outputs": [
    {
     "data": {
      "image/png": "[encoded data removed]",
      "text/plain": [
       "<Figure size 432x288 with 1 Axes>"
      ]
     },
     "metadata": {
      "needs_background": "light"
     },
     "output_type": "display_data"
    }
   ],
   "source": [
    "scores_f1 = {'LogReg':f1_logreg, 'SVM':f1_svm,'KNN':f1_knn,\n",
    "           'DT':f1_dt, 'GNB':f1_gnb, 'LDA':f1_lda}\n",
    "\n",
    "keys_f1 = list(scores_f1.keys())\n",
    "values_f1 = list(scores_f1.values())\n",
    "sns.barplot(x=keys_f1, y=values_f1, palette=\"mako\")\n",
    "\n",
    "plt.xlabel('Classification Algorithm', fontsize = 15)\n",
    "plt.ylabel('F1 Scores', fontsize = 15)\n",
    "plt.show()"
   ]
  }
 ],
 "metadata": {
  "kernelspec": {
   "display_name": "Python 3 (ipykernel)",
   "language": "python",
   "name": "python3"
  },
  "language_info": {
   "codemirror_mode": {
    "name": "ipython",
    "version": 3
   },
   "file_extension": ".py",
   "mimetype": "text/x-python",
   "name": "python",
   "nbconvert_exporter": "python",
   "pygments_lexer": "ipython3",
   "version": "3.9.7"
  }
 },
 "nbformat": 4,
 "nbformat_minor": 5
}
